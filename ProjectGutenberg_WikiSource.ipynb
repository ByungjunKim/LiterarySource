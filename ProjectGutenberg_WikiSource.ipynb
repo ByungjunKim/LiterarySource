{
  "cells": [
    {
      "cell_type": "markdown",
      "metadata": {
        "colab_type": "text",
        "id": "view-in-github"
      },
      "source": [
        "<a href=\"https://colab.research.google.com/github/ByungjunKim/LiterarySource/blob/main/ProjectGutenberg_WikiSource.ipynb\" target=\"_parent\"><img src=\"https://colab.research.google.com/assets/colab-badge.svg\" alt=\"Open In Colab\"/></a>"
      ]
    },
    {
      "cell_type": "markdown",
      "metadata": {
        "id": "4xjSpwfxZ0Fx"
      },
      "source": [
        "# Project Gutenberg / WikiSource"
      ]
    },
    {
      "cell_type": "markdown",
      "metadata": {
        "id": "4wveETEQZ5Qr"
      },
      "source": [
        "### 필요 패키지 설치 및 로드"
      ]
    },
    {
      "cell_type": "code",
      "execution_count": null,
      "metadata": {
        "id": "ncyKl66_YxWu"
      },
      "outputs": [],
      "source": [
        "pip install -q gutenbergpy wikiextractor gdown"
      ]
    },
    {
      "cell_type": "code",
      "execution_count": null,
      "metadata": {
        "id": "3hPzVoPWZ9kE"
      },
      "outputs": [],
      "source": [
        "# 필요 패키지 load\n",
        "import pandas as pd\n",
        "from tqdm import tqdm\n",
        "tqdm.pandas()\n",
        "import gutenbergpy.textget\n",
        "from pprint import pprint\n",
        "import gdown"
      ]
    },
    {
      "cell_type": "markdown",
      "metadata": {
        "id": "2r6Najs6aEFB"
      },
      "source": [
        "### 구텐베르크 프로젝트\n",
        "[Project Gutenberg](https://www.gutenberg.org/)  \n",
        "[파이썬에서 구텐베르크 프로젝트 자료 자동 수집(gutenbergpy)](https://github.com/raduangelescu/gutenbergpy)"
      ]
    },
    {
      "cell_type": "markdown",
      "metadata": {
        "id": "U6c7h5tjf6Wd"
      },
      "source": [
        "##### 메타정보\n",
        "아래 사이트에서 자동으로 구텐베르크 프로젝트 전체 메타정보 업데이트 중  \n",
        "https://github.com/hugovk/gutenberg-metadata"
      ]
    },
    {
      "cell_type": "code",
      "execution_count": null,
      "metadata": {
        "id": "JbHnyYQgc82T"
      },
      "outputs": [],
      "source": [
        "# 메타정보 json 파일\n",
        "# http://hugovk.github.io/gutenberg-metadata/gutenberg-metadata.json\n",
        "meta = pd.read_json('http://hugovk.github.io/gutenberg-metadata/gutenberg-metadata.json',orient='index')\n",
        "meta"
      ]
    },
    {
      "cell_type": "code",
      "execution_count": null,
      "metadata": {
        "id": "kYkuLrlBhgi6"
      },
      "outputs": [],
      "source": [
        "# index 컬럼 생성 (구텐베르크 프로젝트 고유번호와 일치)\n",
        "meta = meta.reset_index()\n",
        "meta"
      ]
    },
    {
      "cell_type": "code",
      "execution_count": null,
      "metadata": {
        "id": "xgmTMdL9kxZW"
      },
      "outputs": [],
      "source": [
        "# subject 컬럼은 무엇일까?\n",
        "meta['subject'][104]"
      ]
    },
    {
      "cell_type": "code",
      "execution_count": null,
      "metadata": {
        "id": "ouapxlW9hJer"
      },
      "outputs": [],
      "source": [
        "# 제인 오스틴(Austen, Jane) 참여한 저작만 필터링한다면?\n",
        "meta['author'].map(lambda x:'Austen, Jane' in x)"
      ]
    },
    {
      "cell_type": "code",
      "execution_count": null,
      "metadata": {
        "id": "Od3Faxn3j7Pl"
      },
      "outputs": [],
      "source": [
        "# 연습 (jane이라는 변수로 데이터 프레임 만들기)\n",
        "# 힌트 : 대괄호 활용하기\n"
      ]
    },
    {
      "cell_type": "code",
      "execution_count": null,
      "metadata": {
        "id": "U-8aG97lj8MJ"
      },
      "outputs": [],
      "source": [
        "# 연습\n",
        "# 제인 오스틴(Austen, Jane) 혼자 쓴 필터링한다면?\n",
        "# author에 제인 오스틴 혼자만 있는 경우\n"
      ]
    },
    {
      "cell_type": "code",
      "execution_count": null,
      "metadata": {
        "id": "LMngoVM2uXX3"
      },
      "outputs": [],
      "source": [
        "# 연습 : subject에 love stories가 포함된 작품 뽑기"
      ]
    },
    {
      "cell_type": "markdown",
      "metadata": {
        "id": "cm_MrvfOf5I_"
      },
      "source": [
        "##### 서적"
      ]
    },
    {
      "cell_type": "code",
      "execution_count": null,
      "metadata": {
        "id": "ekg4OSkNaLzE"
      },
      "outputs": [],
      "source": [
        "# 서적 고유 id로 수집하기\n",
        "def usage_example(id):\n",
        "    # This gets a book by its gutenberg id number\n",
        "    raw_book = gutenbergpy.textget.get_text_by_id(id) # with headers\n",
        "    clean_book = gutenbergpy.textget.strip_headers(raw_book) # without headers\n",
        "    return str(clean_book), str(raw_book)"
      ]
    },
    {
      "cell_type": "code",
      "execution_count": null,
      "metadata": {
        "id": "H35CIZNXaOxc"
      },
      "outputs": [],
      "source": [
        "# 필경사 바틀비(11231)\n",
        "# https://www.gutenberg.org/ebooks/11231\n",
        "# 여러분이 수집하고 싶은 책 번호를 넣어보세요\n",
        "cleaned_book, raw_book = usage_example(11231)"
      ]
    },
    {
      "cell_type": "code",
      "execution_count": null,
      "metadata": {
        "id": "mLzS1HURaQTY"
      },
      "outputs": [],
      "source": [
        "# clean_book 과 raw_book의 차이는?"
      ]
    },
    {
      "cell_type": "code",
      "execution_count": null,
      "metadata": {
        "id": "haCx_1_hai9J"
      },
      "outputs": [],
      "source": [
        "# 각종 메타정보 포함한 버전(''The Project Gutenberg eBook of Bartleby, The Scrivener, by Herman Melvil ...')\n",
        "pprint(raw_book)"
      ]
    },
    {
      "cell_type": "code",
      "execution_count": null,
      "metadata": {
        "id": "QoaKk0uiamlm"
      },
      "outputs": [],
      "source": [
        "# 각종 메타 정보 삭제한 버전\n",
        "pprint(cleaned_book)"
      ]
    },
    {
      "cell_type": "markdown",
      "metadata": {
        "id": "1eYUoVNuldOO"
      },
      "source": [
        "##### 한 작가의 여러 서적 수집해서 엑셀로 저장하기"
      ]
    },
    {
      "cell_type": "code",
      "execution_count": null,
      "metadata": {
        "id": "j3P7S4PKan1w"
      },
      "outputs": [],
      "source": [
        "# 제인 오스틴의 저작 index 리스트 만들기\n",
        "print(jane['index'].tolist())\n",
        "jane_index = jane['index'].tolist()"
      ]
    },
    {
      "cell_type": "code",
      "execution_count": null,
      "metadata": {
        "id": "uY4l0uiOl90O"
      },
      "outputs": [],
      "source": [
        "# for문을 활용해서 여러 작품을 한꺼번에 수집해 데이터프레임으로 만들기\n",
        "text_list = [] # 빈 list 만들기\n",
        "for index in tqdm(jane_index[:10]): # 열개만 하기 전체하려면 [:10] 삭제\n",
        "  try: # 에러 예외처리\n",
        "    cleaned_book, raw_book = usage_example(index) # index 값을 넣는다.\n",
        "    res = {'index':index,'cleaned_book':cleaned_book,'raw_book':raw_book}\n",
        "    text_list.append(res)\n",
        "  except: # 에러가 나면 아래를 코드를 실행해라.\n",
        "    print(f'\\n{index}') #에러나는 index를 print"
      ]
    },
    {
      "cell_type": "code",
      "execution_count": null,
      "metadata": {
        "id": "nUY2qunGo-OC"
      },
      "outputs": [],
      "source": [
        "# 결과 확인\n",
        "text_list[0]"
      ]
    },
    {
      "cell_type": "code",
      "execution_count": null,
      "metadata": {
        "id": "JZAOA6kAoxFi"
      },
      "outputs": [],
      "source": [
        "# 데이터 프레임으로 만들기\n",
        "jane_text = pd.DataFrame(text_list)\n",
        "jane_text"
      ]
    },
    {
      "cell_type": "code",
      "execution_count": null,
      "metadata": {
        "id": "JySxnQfWqhyz"
      },
      "outputs": [],
      "source": [
        "# 메타 정보와 합치기 (index 열 기준으로)\n",
        "jane_merge = jane.merge(jane_text, on ='index')\n",
        "jane_merge"
      ]
    },
    {
      "cell_type": "code",
      "execution_count": null,
      "metadata": {
        "id": "TuNpqp3osRCU"
      },
      "outputs": [],
      "source": [
        "# 연습 : csv로 저장\n"
      ]
    },
    {
      "cell_type": "markdown",
      "metadata": {
        "id": "gpoFZcM1vp-y"
      },
      "source": [
        "### 위키문헌 (wikisource)\n",
        "https://dumps.wikimedia.org/kowikisource/20231001/"
      ]
    },
    {
      "cell_type": "markdown",
      "metadata": {
        "id": "qgRZeI6n1R2t"
      },
      "source": [
        "##### 위키문헌 전처리"
      ]
    },
    {
      "cell_type": "code",
      "execution_count": null,
      "metadata": {
        "id": "-GmI9Pc7y5tJ"
      },
      "outputs": [],
      "source": [
        "# 위키문헌 xml 원본 파일 다운로드\n",
        "!wget https://dumps.wikimedia.org/kowikisource/20231001/kowikisource-20231001-pages-articles.xml.bz2"
      ]
    },
    {
      "cell_type": "code",
      "execution_count": null,
      "metadata": {
        "id": "0O1-IqBdxZWi"
      },
      "outputs": [],
      "source": [
        "# Parsing (3분 가량 걸림)\n",
        "!python -m wikiextractor.WikiExtractor kowikisource-20231001-pages-articles.xml.bz2"
      ]
    },
    {
      "cell_type": "code",
      "execution_count": null,
      "metadata": {
        "id": "nHIFyh_hxZWj"
      },
      "outputs": [],
      "source": [
        "# 파싱한 파일을 하나의 xml로 합치기\n",
        "!cat text/*/* > kowikisource.xml"
      ]
    },
    {
      "cell_type": "code",
      "execution_count": null,
      "metadata": {
        "id": "rprxLloPxZWj"
      },
      "outputs": [],
      "source": [
        "# 맨위에 추가\n",
        "!echo \"$(echo -n -e '<?xml version=\"1.0\" encoding=\"UTF-8\"?>\\n<wikisource>\\n'; cat kowikisource.xml)\" > kowikisource.xml"
      ]
    },
    {
      "cell_type": "code",
      "execution_count": null,
      "metadata": {
        "id": "Rk2c3ZM8xZWj"
      },
      "outputs": [],
      "source": [
        "!head -n 20 kowikisource.xml # 첫 20줄만 확인"
      ]
    },
    {
      "cell_type": "code",
      "execution_count": null,
      "metadata": {
        "id": "-y4nAvUGxZWk"
      },
      "outputs": [],
      "source": [
        "# 맨 아랫줄에 추가\n",
        "!echo '</wikisource>' >> kowikisource.xml"
      ]
    },
    {
      "cell_type": "code",
      "execution_count": null,
      "metadata": {
        "id": "jBD6FKEGxZWk"
      },
      "outputs": [],
      "source": [
        "!tail kowikisource.xml # 마지막줄 확인"
      ]
    },
    {
      "cell_type": "markdown",
      "metadata": {
        "id": "77tRo2aq1UGZ"
      },
      "source": [
        "##### 위키문헌 다루기"
      ]
    },
    {
      "cell_type": "code",
      "execution_count": null,
      "metadata": {
        "id": "d_av3Pg7vtqQ"
      },
      "outputs": [],
      "source": [
        "df = pd.read_xml('./kowikisource.xml')\n",
        "df"
      ]
    },
    {
      "cell_type": "code",
      "execution_count": null,
      "metadata": {
        "id": "vvPX_QJTWd84"
      },
      "outputs": [],
      "source": [
        "# 소설가 정보 load\n",
        "# https://docs.google.com/spreadsheets/d/1u9sB_HxpmKIYWvS898e6_z2_jb5eStvY/edit?usp=sharing&ouid=102864613966848491919&rtpof=true&sd=true\n",
        "gdown.download(id='1u9sB_HxpmKIYWvS898e6_z2_jb5eStvY',output='230121_위키문헌_문학가.xlsx')"
      ]
    },
    {
      "cell_type": "code",
      "execution_count": null,
      "metadata": {
        "id": "VVOJzNJdWwjM"
      },
      "outputs": [],
      "source": [
        "article = pd.read_excel('./230121_위키문헌_문학가.xlsx')\n",
        "article"
      ]
    },
    {
      "cell_type": "code",
      "execution_count": null,
      "metadata": {
        "id": "wzCRq1s5W9jb"
      },
      "outputs": [],
      "source": [
        "# 위키문헌 문학 제목\n",
        "titles = article['title'].tolist()\n",
        "len(titles) #649 행"
      ]
    },
    {
      "cell_type": "code",
      "execution_count": null,
      "metadata": {
        "id": "yq19oN5YXLjC"
      },
      "outputs": [],
      "source": [
        "# merge\n",
        "df = df.merge(article,on='title')\n",
        "df"
      ]
    },
    {
      "cell_type": "code",
      "execution_count": null,
      "metadata": {
        "id": "HlJrUPFiXMdi"
      },
      "outputs": [],
      "source": [
        "# 연습: 엑셀로 저장하기\n"
      ]
    }
  ],
  "metadata": {
    "colab": {
      "authorship_tag": "ABX9TyMvLAL+aKQWUhaioKFOgt0F",
      "include_colab_link": true,
      "provenance": []
    },
    "kernelspec": {
      "display_name": "Python 3",
      "name": "python3"
    },
    "language_info": {
      "name": "python"
    }
  },
  "nbformat": 4,
  "nbformat_minor": 0
}
